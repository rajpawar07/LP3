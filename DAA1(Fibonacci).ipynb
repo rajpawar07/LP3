{
 "cells": [
  {
   "cell_type": "code",
   "execution_count": 1,
   "id": "cfe2012c",
   "metadata": {},
   "outputs": [
    {
     "name": "stdout",
     "output_type": "stream",
     "text": [
      "Enter the Fibonacci number you want to calculate: 4\n",
      "The 4-th Fibonacci number is: 3\n",
      "Total steps taken: 9\n"
     ]
    }
   ],
   "source": [
    "def fibonacci(n):\n",
    "    if n <= 1:\n",
    "        return n, 1\n",
    "    else:\n",
    "        fib_1, steps_1 = fibonacci(n-1)\n",
    "        fib_2, steps_2 = fibonacci(n-2)\n",
    "        return fib_1 + fib_2, steps_1 + steps_2 + 1\n",
    "\n",
    "def main():\n",
    "    n = int(input(\"Enter the Fibonacci number you want to calculate: \"))\n",
    "\n",
    "    if n < 0:\n",
    "        print(\"Please enter a non-negative integer.\")\n",
    "        return\n",
    "\n",
    "    result, steps = fibonacci(n)\n",
    "\n",
    "    print(f\"The {n}-th Fibonacci number is: {result}\")\n",
    "    print(f\"Total steps taken: {steps}\")\n",
    "\n",
    "if __name__ == \"__main__\":\n",
    "    main()"
   ]
  },
  {
   "cell_type": "code",
   "execution_count": null,
   "id": "e8f0d502",
   "metadata": {},
   "outputs": [],
   "source": []
  }
 ],
 "metadata": {
  "kernelspec": {
   "display_name": "Python 3 (ipykernel)",
   "language": "python",
   "name": "python3"
  },
  "language_info": {
   "codemirror_mode": {
    "name": "ipython",
    "version": 3
   },
   "file_extension": ".py",
   "mimetype": "text/x-python",
   "name": "python",
   "nbconvert_exporter": "python",
   "pygments_lexer": "ipython3",
   "version": "3.11.2"
  }
 },
 "nbformat": 4,
 "nbformat_minor": 5
}
