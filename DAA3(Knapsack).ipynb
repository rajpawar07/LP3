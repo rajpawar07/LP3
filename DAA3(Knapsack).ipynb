{
 "cells": [
  {
   "cell_type": "code",
   "execution_count": 1,
   "id": "9653ac90",
   "metadata": {},
   "outputs": [
    {
     "name": "stdout",
     "output_type": "stream",
     "text": [
      "Selected Items in Knapsack:\n",
      "Item: item1, Weight: 10, Value: 60\n",
      "Item: item2, Weight: 20, Value: 100\n",
      "Item: item3, Weight: 20.0, Value: 80.0\n",
      "Total Value: 240.0\n"
     ]
    }
   ],
   "source": [
    "def fractional_knapsack(items, capacity):\n",
    "    # Calculate the value-to-weight ratios for each item\n",
    "    for item in items:\n",
    "        item['ratio'] = item['value'] / item['weight']\n",
    "\n",
    "    # Sort items in non-increasing order of value-to-weight ratio\n",
    "    items.sort(key=lambda x: x['ratio'], reverse=True)\n",
    "\n",
    "    total_value = 0\n",
    "    total_weight = 0\n",
    "    knapsack = []\n",
    "\n",
    "    for item in items:\n",
    "        if total_weight + item['weight'] <= capacity:\n",
    "            # Take the whole item\n",
    "            knapsack.append(item)\n",
    "            total_value += item['value']\n",
    "            total_weight += item['weight']\n",
    "        else:\n",
    "            # Take a fraction of the item\n",
    "            fraction = (capacity - total_weight) / item['weight']\n",
    "            knapsack.append({'name': item['name'], 'weight': item['weight']*fraction, 'value': item['value']*fraction})\n",
    "            total_value += item['value']*fraction\n",
    "            total_weight += item['weight']*fraction\n",
    "            break\n",
    "\n",
    "    return knapsack, total_value\n",
    "\n",
    "# Example Usage\n",
    "items = [\n",
    "    {'name': 'item1', 'weight': 10, 'value': 60},\n",
    "    {'name': 'item2', 'weight': 20, 'value': 100},\n",
    "    {'name': 'item3', 'weight': 30, 'value': 120},\n",
    " {'name': 'item3', 'weight': 30, 'value': 120},\n",
    "\n",
    "]\n",
    "\n",
    "capacity = 50\n",
    "\n",
    "knapsack_items, total_value = fractional_knapsack(items, capacity)\n",
    "\n",
    "print(f\"Selected Items in Knapsack:\")\n",
    "for item in knapsack_items:\n",
    "    print(f\"Item: {item['name']}, Weight: {item['weight']}, Value: {item['value']}\")\n",
    "\n",
    "print(f\"Total Value: {total_value}\")"
   ]
  },
  {
   "cell_type": "code",
   "execution_count": null,
   "id": "4e876188",
   "metadata": {},
   "outputs": [],
   "source": []
  }
 ],
 "metadata": {
  "kernelspec": {
   "display_name": "Python 3 (ipykernel)",
   "language": "python",
   "name": "python3"
  },
  "language_info": {
   "codemirror_mode": {
    "name": "ipython",
    "version": 3
   },
   "file_extension": ".py",
   "mimetype": "text/x-python",
   "name": "python",
   "nbconvert_exporter": "python",
   "pygments_lexer": "ipython3",
   "version": "3.11.2"
  }
 },
 "nbformat": 4,
 "nbformat_minor": 5
}
