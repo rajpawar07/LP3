{
 "cells": [
  {
   "cell_type": "code",
   "execution_count": 2,
   "id": "d92f8304",
   "metadata": {},
   "outputs": [
    {
     "name": "stdout",
     "output_type": "stream",
     "text": [
      "Enter the row to place the queen2\n",
      "Solution found:\n",
      "0 1 0 0 0 0 0 0 \n",
      "0 0 0 0 0 1 0 0 \n",
      "1 0 0 0 0 0 0 0 \n",
      "0 0 0 0 0 0 1 0 \n",
      "0 0 0 1 0 0 0 0 \n",
      "0 0 0 0 0 0 0 1 \n",
      "0 0 1 0 0 0 0 0 \n",
      "0 0 0 0 1 0 0 0 \n"
     ]
    }
   ],
   "source": [
    "def print_board(board):\n",
    "    for i in range(len(board)):\n",
    "        for j in range(len(board)):\n",
    "            print(board[i][j], end=\" \")\n",
    "        print()\n",
    "\n",
    "def is_safe(board, row, col):\n",
    "    # Check left side of the row\n",
    "    for i in range(col):\n",
    "        if board[row][i] == 1:\n",
    "            return False\n",
    "\n",
    "    # Check upper left diagonal\n",
    "    for i, j in zip(range(row, -1, -1), range(col, -1, -1)):\n",
    "        if board[i][j] == 1:\n",
    "            return False\n",
    "\n",
    "    # Check lower left diagonal\n",
    "    for i, j in zip(range(row, len(board), 1), range(col, -1, -1)):\n",
    "        if board[i][j] == 1:\n",
    "            return False\n",
    "\n",
    "    return True\n",
    "\n",
    "def solve_n_queens(board, col):\n",
    "    if col >= len(board):\n",
    "        return True\n",
    "\n",
    "    for i in range(len(board)):\n",
    "        if is_safe(board, i, col):\n",
    "            board[i][col] = 1\n",
    "\n",
    "            if solve_n_queens(board, col + 1):\n",
    "                return True\n",
    "\n",
    "            board[i][col] = 0\n",
    "\n",
    "    return False\n",
    "\n",
    "# Initialize the board with 0's\n",
    "n = 8\n",
    "board = [[0 for _ in range(n)] for _ in range(n)]\n",
    "\n",
    "# Place the first Queen at (0, 0)\n",
    "row=int(input(\"Enter the row to place the queen\"))\n",
    "board[row][0] = 1\n",
    "\n",
    "# Solve the 8-Queens problem\n",
    "if solve_n_queens(board, 1):\n",
    "    print(\"Solution found:\")\n",
    "    print_board(board)\n",
    "else:\n",
    "    print(\"No solution exists\")\n",
    "    print_board(board)"
   ]
  },
  {
   "cell_type": "code",
   "execution_count": null,
   "id": "d2cc424e",
   "metadata": {},
   "outputs": [],
   "source": []
  },
  {
   "cell_type": "code",
   "execution_count": null,
   "id": "623826b1",
   "metadata": {},
   "outputs": [],
   "source": []
  }
 ],
 "metadata": {
  "kernelspec": {
   "display_name": "Python 3 (ipykernel)",
   "language": "python",
   "name": "python3"
  },
  "language_info": {
   "codemirror_mode": {
    "name": "ipython",
    "version": 3
   },
   "file_extension": ".py",
   "mimetype": "text/x-python",
   "name": "python",
   "nbconvert_exporter": "python",
   "pygments_lexer": "ipython3",
   "version": "3.11.2"
  }
 },
 "nbformat": 4,
 "nbformat_minor": 5
}
